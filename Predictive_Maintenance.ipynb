{
  "nbformat": 4,
  "nbformat_minor": 0,
  "metadata": {
    "colab": {
      "name": "Predictive_Maintenance.ipynb",
      "provenance": [],
      "mount_file_id": "122Z-GEbhZM_Xmxb5BKwt1OrJEobtME0F",
      "authorship_tag": "ABX9TyPC9xqrNfJtQ8O9FWxAVKDn",
      "include_colab_link": true
    },
    "kernelspec": {
      "name": "python3",
      "display_name": "Python 3"
    },
    "language_info": {
      "name": "python"
    }
  },
  "cells": [
    {
      "cell_type": "markdown",
      "metadata": {
        "id": "view-in-github",
        "colab_type": "text"
      },
      "source": [
        "<a href=\"https://colab.research.google.com/github/HarshGupta-DS/Predictive-Maintainence-using-Time-Series-Forecasting/blob/main/Predictive_Maintenance.ipynb\" target=\"_parent\"><img src=\"https://colab.research.google.com/assets/colab-badge.svg\" alt=\"Open In Colab\"/></a>"
      ]
    },
    {
      "cell_type": "markdown",
      "source": [
        "#**Predictive Maintenance** : **Data Analysis & Time-Series Forecasting**\n"
      ],
      "metadata": {
        "id": "AlO2tjeYbFrs"
      }
    },
    {
      "cell_type": "markdown",
      "source": [
        ""
      ],
      "metadata": {
        "id": "AL6-ThXRovOr"
      }
    },
    {
      "cell_type": "code",
      "execution_count": 38,
      "metadata": {
        "id": "ESuvoWSloeyp"
      },
      "outputs": [],
      "source": [
        "#Importing Libraries and defining functions for plotting the data using **matplotlib**\n",
        "import os\n",
        "import sys\n",
        "import numpy as np \n",
        "import pandas as pd\n",
        "import matplotlib\n",
        "import matplotlib.pyplot as plt\n",
        "import matplotlib.dates as mdates\n",
        "from datetime import datetime\n",
        "\n",
        "matplotlib.style.use(\"Solarize_Light2\")\n",
        "\n",
        "%matplotlib inline"
      ]
    },
    {
      "cell_type": "markdown",
      "source": [
        "Our world is full of equipment. For example:\n",
        "\n",
        "\n",
        "\n",
        "*   Aircraft consists of different equipments\n",
        "*   HVAC (Heating, Ventilation, Air Conditioning) equipment consists of various parts\n",
        "\n",
        "\n",
        "\n",
        "\n",
        "\n",
        "All these equipments or their parts meet failures and hence need maintenance. Thus maintenance is a big industry by itself. Maintenance is done either by replacing parts at regular intervals even when those are working (Preventive Maintenance) or by replacing the parts only when there is failure (Reactive Maintenance). \n",
        "\n",
        "Predictive Maintenance avoids the drawbacks of Preventive Maintenance (under utilization of a part's life) and Reactive Maintenance (unscheduled downtime). Based on the health of an equipment in the past, future point of failure can be predicted in Predictive Maintenance. Thus, replacement of parts can be scheduled just before the actual failure.\n",
        "\n",
        "Traditionally, predictive maintenance is being done using rule based techniques. With the advent of connected sensors (IoT), data from equipment is continuously collected and fed to Machine Learning based systems to predict its future health."
      ],
      "metadata": {
        "id": "tEpGy_PqpuAH"
      }
    },
    {
      "cell_type": "code",
      "source": [
        "#Reading_Data\n",
        "Data_Dir = \"/content/drive/MyDrive\"\n",
        "\n",
        "telemetry_df = pd.read_csv(\"/content/drive/MyDrive/PdM_telemetry.csv\")\n",
        "errors_df = pd.read_csv(\"/content/drive/MyDrive/PdM_errors.csv\")\n",
        "maint_df = pd.read_csv(\"/content/drive/MyDrive/PdM_maint.csv\")\n",
        "failure_df = pd.read_csv(\"/content/drive/MyDrive/PdM_failures.csv\")\n",
        "machines_df = pd.read_csv(\"/content/drive/MyDrive/PdM_machines.csv\")\n",
        "\n",
        "#Date and Time Formatting, Sorting based on Date for better readability\n",
        "tables = [telemetry_df,errors_df,maint_df,failure_df]\n",
        "for df in tables:\n",
        "  df[\"datetime\"] = pd.to_datetime(df[\"datetime\"], format = \"%Y-%m-%d %H:%M:%S\")\n",
        "  df.sort_values([\"datetime\",\"machineID\"],inplace=True, ignore_index = True)"
      ],
      "metadata": {
        "id": "VVt3Q3NLausF"
      },
      "execution_count": 39,
      "outputs": []
    },
    {
      "cell_type": "code",
      "source": [
        "failure_df.head()"
      ],
      "metadata": {
        "colab": {
          "base_uri": "https://localhost:8080/",
          "height": 205
        },
        "id": "_ldCs7thtZl2",
        "outputId": "8e27ac3e-b6e5-4447-dcd6-f4e6c9a7ce8e"
      },
      "execution_count": 40,
      "outputs": [
        {
          "output_type": "execute_result",
          "data": {
            "text/plain": [
              "             datetime  machineID failure\n",
              "0 2015-01-02 03:00:00         16   comp1\n",
              "1 2015-01-02 03:00:00         16   comp3\n",
              "2 2015-01-02 03:00:00         17   comp4\n",
              "3 2015-01-02 03:00:00         22   comp1\n",
              "4 2015-01-02 03:00:00         35   comp1"
            ],
            "text/html": [
              "\n",
              "  <div id=\"df-06ebd4d3-1393-4275-ba1e-600eff922d0d\">\n",
              "    <div class=\"colab-df-container\">\n",
              "      <div>\n",
              "<style scoped>\n",
              "    .dataframe tbody tr th:only-of-type {\n",
              "        vertical-align: middle;\n",
              "    }\n",
              "\n",
              "    .dataframe tbody tr th {\n",
              "        vertical-align: top;\n",
              "    }\n",
              "\n",
              "    .dataframe thead th {\n",
              "        text-align: right;\n",
              "    }\n",
              "</style>\n",
              "<table border=\"1\" class=\"dataframe\">\n",
              "  <thead>\n",
              "    <tr style=\"text-align: right;\">\n",
              "      <th></th>\n",
              "      <th>datetime</th>\n",
              "      <th>machineID</th>\n",
              "      <th>failure</th>\n",
              "    </tr>\n",
              "  </thead>\n",
              "  <tbody>\n",
              "    <tr>\n",
              "      <th>0</th>\n",
              "      <td>2015-01-02 03:00:00</td>\n",
              "      <td>16</td>\n",
              "      <td>comp1</td>\n",
              "    </tr>\n",
              "    <tr>\n",
              "      <th>1</th>\n",
              "      <td>2015-01-02 03:00:00</td>\n",
              "      <td>16</td>\n",
              "      <td>comp3</td>\n",
              "    </tr>\n",
              "    <tr>\n",
              "      <th>2</th>\n",
              "      <td>2015-01-02 03:00:00</td>\n",
              "      <td>17</td>\n",
              "      <td>comp4</td>\n",
              "    </tr>\n",
              "    <tr>\n",
              "      <th>3</th>\n",
              "      <td>2015-01-02 03:00:00</td>\n",
              "      <td>22</td>\n",
              "      <td>comp1</td>\n",
              "    </tr>\n",
              "    <tr>\n",
              "      <th>4</th>\n",
              "      <td>2015-01-02 03:00:00</td>\n",
              "      <td>35</td>\n",
              "      <td>comp1</td>\n",
              "    </tr>\n",
              "  </tbody>\n",
              "</table>\n",
              "</div>\n",
              "      <button class=\"colab-df-convert\" onclick=\"convertToInteractive('df-06ebd4d3-1393-4275-ba1e-600eff922d0d')\"\n",
              "              title=\"Convert this dataframe to an interactive table.\"\n",
              "              style=\"display:none;\">\n",
              "        \n",
              "  <svg xmlns=\"http://www.w3.org/2000/svg\" height=\"24px\"viewBox=\"0 0 24 24\"\n",
              "       width=\"24px\">\n",
              "    <path d=\"M0 0h24v24H0V0z\" fill=\"none\"/>\n",
              "    <path d=\"M18.56 5.44l.94 2.06.94-2.06 2.06-.94-2.06-.94-.94-2.06-.94 2.06-2.06.94zm-11 1L8.5 8.5l.94-2.06 2.06-.94-2.06-.94L8.5 2.5l-.94 2.06-2.06.94zm10 10l.94 2.06.94-2.06 2.06-.94-2.06-.94-.94-2.06-.94 2.06-2.06.94z\"/><path d=\"M17.41 7.96l-1.37-1.37c-.4-.4-.92-.59-1.43-.59-.52 0-1.04.2-1.43.59L10.3 9.45l-7.72 7.72c-.78.78-.78 2.05 0 2.83L4 21.41c.39.39.9.59 1.41.59.51 0 1.02-.2 1.41-.59l7.78-7.78 2.81-2.81c.8-.78.8-2.07 0-2.86zM5.41 20L4 18.59l7.72-7.72 1.47 1.35L5.41 20z\"/>\n",
              "  </svg>\n",
              "      </button>\n",
              "      \n",
              "  <style>\n",
              "    .colab-df-container {\n",
              "      display:flex;\n",
              "      flex-wrap:wrap;\n",
              "      gap: 12px;\n",
              "    }\n",
              "\n",
              "    .colab-df-convert {\n",
              "      background-color: #E8F0FE;\n",
              "      border: none;\n",
              "      border-radius: 50%;\n",
              "      cursor: pointer;\n",
              "      display: none;\n",
              "      fill: #1967D2;\n",
              "      height: 32px;\n",
              "      padding: 0 0 0 0;\n",
              "      width: 32px;\n",
              "    }\n",
              "\n",
              "    .colab-df-convert:hover {\n",
              "      background-color: #E2EBFA;\n",
              "      box-shadow: 0px 1px 2px rgba(60, 64, 67, 0.3), 0px 1px 3px 1px rgba(60, 64, 67, 0.15);\n",
              "      fill: #174EA6;\n",
              "    }\n",
              "\n",
              "    [theme=dark] .colab-df-convert {\n",
              "      background-color: #3B4455;\n",
              "      fill: #D2E3FC;\n",
              "    }\n",
              "\n",
              "    [theme=dark] .colab-df-convert:hover {\n",
              "      background-color: #434B5C;\n",
              "      box-shadow: 0px 1px 3px 1px rgba(0, 0, 0, 0.15);\n",
              "      filter: drop-shadow(0px 1px 2px rgba(0, 0, 0, 0.3));\n",
              "      fill: #FFFFFF;\n",
              "    }\n",
              "  </style>\n",
              "\n",
              "      <script>\n",
              "        const buttonEl =\n",
              "          document.querySelector('#df-06ebd4d3-1393-4275-ba1e-600eff922d0d button.colab-df-convert');\n",
              "        buttonEl.style.display =\n",
              "          google.colab.kernel.accessAllowed ? 'block' : 'none';\n",
              "\n",
              "        async function convertToInteractive(key) {\n",
              "          const element = document.querySelector('#df-06ebd4d3-1393-4275-ba1e-600eff922d0d');\n",
              "          const dataTable =\n",
              "            await google.colab.kernel.invokeFunction('convertToInteractive',\n",
              "                                                     [key], {});\n",
              "          if (!dataTable) return;\n",
              "\n",
              "          const docLinkHtml = 'Like what you see? Visit the ' +\n",
              "            '<a target=\"_blank\" href=https://colab.research.google.com/notebooks/data_table.ipynb>data table notebook</a>'\n",
              "            + ' to learn more about interactive tables.';\n",
              "          element.innerHTML = '';\n",
              "          dataTable['output_type'] = 'display_data';\n",
              "          await google.colab.output.renderOutput(dataTable, element);\n",
              "          const docLink = document.createElement('div');\n",
              "          docLink.innerHTML = docLinkHtml;\n",
              "          element.appendChild(docLink);\n",
              "        }\n",
              "      </script>\n",
              "    </div>\n",
              "  </div>\n",
              "  "
            ]
          },
          "metadata": {},
          "execution_count": 40
        }
      ]
    },
    {
      "cell_type": "markdown",
      "source": [
        "**Telemetry Data**\n",
        "\n",
        "For more simplicity we will select a machine data that consist of hourly average of voltage, rotation, pressure, and vibration collected from 100 Machines.\n",
        "\n"
      ],
      "metadata": {
        "id": "cEIblaX6TUmp"
      }
    },
    {
      "cell_type": "code",
      "source": [
        "#First few rows of Telemetry data for Machine 1\n",
        "telemetry_df[telemetry_df.machineID==1].head()"
      ],
      "metadata": {
        "colab": {
          "base_uri": "https://localhost:8080/",
          "height": 205
        },
        "id": "K8UKRUsqVXhX",
        "outputId": "82885120-72d1-41dc-dcd1-759260053b17"
      },
      "execution_count": 41,
      "outputs": [
        {
          "output_type": "execute_result",
          "data": {
            "text/plain": [
              "               datetime  machineID        volt      rotate    pressure  \\\n",
              "0   2015-01-01 06:00:00          1  176.217853  418.504078  113.077935   \n",
              "100 2015-01-01 07:00:00          1  162.879223  402.747490   95.460525   \n",
              "200 2015-01-01 08:00:00          1  170.989902  527.349825   75.237905   \n",
              "300 2015-01-01 09:00:00          1  162.462833  346.149335  109.248561   \n",
              "400 2015-01-01 10:00:00          1  157.610021  435.376873  111.886648   \n",
              "\n",
              "     vibration  \n",
              "0    45.087686  \n",
              "100  43.413973  \n",
              "200  34.178847  \n",
              "300  41.122144  \n",
              "400  25.990511  "
            ],
            "text/html": [
              "\n",
              "  <div id=\"df-a065fc1d-5193-49df-bb18-9551058a2326\">\n",
              "    <div class=\"colab-df-container\">\n",
              "      <div>\n",
              "<style scoped>\n",
              "    .dataframe tbody tr th:only-of-type {\n",
              "        vertical-align: middle;\n",
              "    }\n",
              "\n",
              "    .dataframe tbody tr th {\n",
              "        vertical-align: top;\n",
              "    }\n",
              "\n",
              "    .dataframe thead th {\n",
              "        text-align: right;\n",
              "    }\n",
              "</style>\n",
              "<table border=\"1\" class=\"dataframe\">\n",
              "  <thead>\n",
              "    <tr style=\"text-align: right;\">\n",
              "      <th></th>\n",
              "      <th>datetime</th>\n",
              "      <th>machineID</th>\n",
              "      <th>volt</th>\n",
              "      <th>rotate</th>\n",
              "      <th>pressure</th>\n",
              "      <th>vibration</th>\n",
              "    </tr>\n",
              "  </thead>\n",
              "  <tbody>\n",
              "    <tr>\n",
              "      <th>0</th>\n",
              "      <td>2015-01-01 06:00:00</td>\n",
              "      <td>1</td>\n",
              "      <td>176.217853</td>\n",
              "      <td>418.504078</td>\n",
              "      <td>113.077935</td>\n",
              "      <td>45.087686</td>\n",
              "    </tr>\n",
              "    <tr>\n",
              "      <th>100</th>\n",
              "      <td>2015-01-01 07:00:00</td>\n",
              "      <td>1</td>\n",
              "      <td>162.879223</td>\n",
              "      <td>402.747490</td>\n",
              "      <td>95.460525</td>\n",
              "      <td>43.413973</td>\n",
              "    </tr>\n",
              "    <tr>\n",
              "      <th>200</th>\n",
              "      <td>2015-01-01 08:00:00</td>\n",
              "      <td>1</td>\n",
              "      <td>170.989902</td>\n",
              "      <td>527.349825</td>\n",
              "      <td>75.237905</td>\n",
              "      <td>34.178847</td>\n",
              "    </tr>\n",
              "    <tr>\n",
              "      <th>300</th>\n",
              "      <td>2015-01-01 09:00:00</td>\n",
              "      <td>1</td>\n",
              "      <td>162.462833</td>\n",
              "      <td>346.149335</td>\n",
              "      <td>109.248561</td>\n",
              "      <td>41.122144</td>\n",
              "    </tr>\n",
              "    <tr>\n",
              "      <th>400</th>\n",
              "      <td>2015-01-01 10:00:00</td>\n",
              "      <td>1</td>\n",
              "      <td>157.610021</td>\n",
              "      <td>435.376873</td>\n",
              "      <td>111.886648</td>\n",
              "      <td>25.990511</td>\n",
              "    </tr>\n",
              "  </tbody>\n",
              "</table>\n",
              "</div>\n",
              "      <button class=\"colab-df-convert\" onclick=\"convertToInteractive('df-a065fc1d-5193-49df-bb18-9551058a2326')\"\n",
              "              title=\"Convert this dataframe to an interactive table.\"\n",
              "              style=\"display:none;\">\n",
              "        \n",
              "  <svg xmlns=\"http://www.w3.org/2000/svg\" height=\"24px\"viewBox=\"0 0 24 24\"\n",
              "       width=\"24px\">\n",
              "    <path d=\"M0 0h24v24H0V0z\" fill=\"none\"/>\n",
              "    <path d=\"M18.56 5.44l.94 2.06.94-2.06 2.06-.94-2.06-.94-.94-2.06-.94 2.06-2.06.94zm-11 1L8.5 8.5l.94-2.06 2.06-.94-2.06-.94L8.5 2.5l-.94 2.06-2.06.94zm10 10l.94 2.06.94-2.06 2.06-.94-2.06-.94-.94-2.06-.94 2.06-2.06.94z\"/><path d=\"M17.41 7.96l-1.37-1.37c-.4-.4-.92-.59-1.43-.59-.52 0-1.04.2-1.43.59L10.3 9.45l-7.72 7.72c-.78.78-.78 2.05 0 2.83L4 21.41c.39.39.9.59 1.41.59.51 0 1.02-.2 1.41-.59l7.78-7.78 2.81-2.81c.8-.78.8-2.07 0-2.86zM5.41 20L4 18.59l7.72-7.72 1.47 1.35L5.41 20z\"/>\n",
              "  </svg>\n",
              "      </button>\n",
              "      \n",
              "  <style>\n",
              "    .colab-df-container {\n",
              "      display:flex;\n",
              "      flex-wrap:wrap;\n",
              "      gap: 12px;\n",
              "    }\n",
              "\n",
              "    .colab-df-convert {\n",
              "      background-color: #E8F0FE;\n",
              "      border: none;\n",
              "      border-radius: 50%;\n",
              "      cursor: pointer;\n",
              "      display: none;\n",
              "      fill: #1967D2;\n",
              "      height: 32px;\n",
              "      padding: 0 0 0 0;\n",
              "      width: 32px;\n",
              "    }\n",
              "\n",
              "    .colab-df-convert:hover {\n",
              "      background-color: #E2EBFA;\n",
              "      box-shadow: 0px 1px 2px rgba(60, 64, 67, 0.3), 0px 1px 3px 1px rgba(60, 64, 67, 0.15);\n",
              "      fill: #174EA6;\n",
              "    }\n",
              "\n",
              "    [theme=dark] .colab-df-convert {\n",
              "      background-color: #3B4455;\n",
              "      fill: #D2E3FC;\n",
              "    }\n",
              "\n",
              "    [theme=dark] .colab-df-convert:hover {\n",
              "      background-color: #434B5C;\n",
              "      box-shadow: 0px 1px 3px 1px rgba(0, 0, 0, 0.15);\n",
              "      filter: drop-shadow(0px 1px 2px rgba(0, 0, 0, 0.3));\n",
              "      fill: #FFFFFF;\n",
              "    }\n",
              "  </style>\n",
              "\n",
              "      <script>\n",
              "        const buttonEl =\n",
              "          document.querySelector('#df-a065fc1d-5193-49df-bb18-9551058a2326 button.colab-df-convert');\n",
              "        buttonEl.style.display =\n",
              "          google.colab.kernel.accessAllowed ? 'block' : 'none';\n",
              "\n",
              "        async function convertToInteractive(key) {\n",
              "          const element = document.querySelector('#df-a065fc1d-5193-49df-bb18-9551058a2326');\n",
              "          const dataTable =\n",
              "            await google.colab.kernel.invokeFunction('convertToInteractive',\n",
              "                                                     [key], {});\n",
              "          if (!dataTable) return;\n",
              "\n",
              "          const docLinkHtml = 'Like what you see? Visit the ' +\n",
              "            '<a target=\"_blank\" href=https://colab.research.google.com/notebooks/data_table.ipynb>data table notebook</a>'\n",
              "            + ' to learn more about interactive tables.';\n",
              "          element.innerHTML = '';\n",
              "          dataTable['output_type'] = 'display_data';\n",
              "          await google.colab.output.renderOutput(dataTable, element);\n",
              "          const docLink = document.createElement('div');\n",
              "          docLink.innerHTML = docLinkHtml;\n",
              "          element.appendChild(docLink);\n",
              "        }\n",
              "      </script>\n",
              "    </div>\n",
              "  </div>\n",
              "  "
            ]
          },
          "metadata": {},
          "execution_count": 41
        }
      ]
    },
    {
      "cell_type": "code",
      "source": [
        "#Machine Count\n",
        "telemetry_df.machineID.nunique()"
      ],
      "metadata": {
        "colab": {
          "base_uri": "https://localhost:8080/"
        },
        "id": "wDb9coG8Vris",
        "outputId": "d6accdb8-a329-436c-d18e-ac490376fd74"
      },
      "execution_count": 42,
      "outputs": [
        {
          "output_type": "execute_result",
          "data": {
            "text/plain": [
              "100"
            ]
          },
          "metadata": {},
          "execution_count": 42
        }
      ]
    },
    {
      "cell_type": "code",
      "source": [
        "#Duration of the data\n",
        "telemetry_df.datetime.describe(datetime_is_numeric=True)"
      ],
      "metadata": {
        "colab": {
          "base_uri": "https://localhost:8080/"
        },
        "id": "czG6o8-bWZZW",
        "outputId": "b02caa72-eb28-48f1-a9f1-fdd3c44f2dee"
      },
      "execution_count": 43,
      "outputs": [
        {
          "output_type": "execute_result",
          "data": {
            "text/plain": [
              "count                 876100\n",
              "mean     2015-07-02 18:00:00\n",
              "min      2015-01-01 06:00:00\n",
              "25%      2015-04-02 12:00:00\n",
              "50%      2015-07-02 18:00:00\n",
              "75%      2015-10-02 00:00:00\n",
              "max      2016-01-01 06:00:00\n",
              "Name: datetime, dtype: object"
            ]
          },
          "metadata": {},
          "execution_count": 43
        }
      ]
    },
    {
      "cell_type": "code",
      "source": [
        "#Duplictes Values\n",
        "check_duplicate(telemetry_df,['datetime', 'machineID'])\n"
      ],
      "metadata": {
        "colab": {
          "base_uri": "https://localhost:8080/"
        },
        "id": "dOWxBoAbWi5i",
        "outputId": "79964b89-34a6-4881-ea1d-995f20cd0ed7"
      },
      "execution_count": 44,
      "outputs": [
        {
          "output_type": "execute_result",
          "data": {
            "text/plain": [
              "0"
            ]
          },
          "metadata": {},
          "execution_count": 44
        }
      ]
    },
    {
      "cell_type": "code",
      "source": [
        "#Check Null Values\n",
        "check_null(telemetry_df)"
      ],
      "metadata": {
        "colab": {
          "base_uri": "https://localhost:8080/"
        },
        "id": "1tquyHw-WaS_",
        "outputId": "ba260bc2-faed-4843-a479-1171591812e1"
      },
      "execution_count": 45,
      "outputs": [
        {
          "output_type": "execute_result",
          "data": {
            "text/plain": [
              "datetime     0.0\n",
              "machineID    0.0\n",
              "volt         0.0\n",
              "rotate       0.0\n",
              "pressure     0.0\n",
              "vibration    0.0\n",
              "dtype: float64"
            ]
          },
          "metadata": {},
          "execution_count": 45
        }
      ]
    },
    {
      "cell_type": "code",
      "source": [
        "#Let's assume machineID as 10\n",
        "print(f\"Shape of the Telemetry Record: {telemetry_df.shape}\")\n",
        "df_sin = telemetry_df.loc[telemetry_df['machineID']==10].reset_index(drop=True)\n",
        "df_sin.head(n=5)"
      ],
      "metadata": {
        "colab": {
          "base_uri": "https://localhost:8080/",
          "height": 224
        },
        "id": "p1x1ergrlICy",
        "outputId": "a9ad8607-10c2-4b84-9d51-61287e12ed77"
      },
      "execution_count": 46,
      "outputs": [
        {
          "output_type": "stream",
          "name": "stdout",
          "text": [
            "Shape of the Telemetry Record: (876100, 6)\n"
          ]
        },
        {
          "output_type": "execute_result",
          "data": {
            "text/plain": [
              "             datetime  machineID        volt      rotate    pressure  \\\n",
              "0 2015-01-01 06:00:00         10  158.421261  500.830885  119.750673   \n",
              "1 2015-01-01 07:00:00         10  174.631951  356.928821   88.860999   \n",
              "2 2015-01-01 08:00:00         10  158.777566  467.162159   84.382394   \n",
              "3 2015-01-01 09:00:00         10  178.128852  438.376292  105.870821   \n",
              "4 2015-01-01 10:00:00         10  176.497316  364.918330   98.148214   \n",
              "\n",
              "   vibration  \n",
              "0  45.571344  \n",
              "1  35.245965  \n",
              "2  37.975278  \n",
              "3  40.836263  \n",
              "4  35.511013  "
            ],
            "text/html": [
              "\n",
              "  <div id=\"df-05fec019-037a-41d5-8425-f1700ba6cb7d\">\n",
              "    <div class=\"colab-df-container\">\n",
              "      <div>\n",
              "<style scoped>\n",
              "    .dataframe tbody tr th:only-of-type {\n",
              "        vertical-align: middle;\n",
              "    }\n",
              "\n",
              "    .dataframe tbody tr th {\n",
              "        vertical-align: top;\n",
              "    }\n",
              "\n",
              "    .dataframe thead th {\n",
              "        text-align: right;\n",
              "    }\n",
              "</style>\n",
              "<table border=\"1\" class=\"dataframe\">\n",
              "  <thead>\n",
              "    <tr style=\"text-align: right;\">\n",
              "      <th></th>\n",
              "      <th>datetime</th>\n",
              "      <th>machineID</th>\n",
              "      <th>volt</th>\n",
              "      <th>rotate</th>\n",
              "      <th>pressure</th>\n",
              "      <th>vibration</th>\n",
              "    </tr>\n",
              "  </thead>\n",
              "  <tbody>\n",
              "    <tr>\n",
              "      <th>0</th>\n",
              "      <td>2015-01-01 06:00:00</td>\n",
              "      <td>10</td>\n",
              "      <td>158.421261</td>\n",
              "      <td>500.830885</td>\n",
              "      <td>119.750673</td>\n",
              "      <td>45.571344</td>\n",
              "    </tr>\n",
              "    <tr>\n",
              "      <th>1</th>\n",
              "      <td>2015-01-01 07:00:00</td>\n",
              "      <td>10</td>\n",
              "      <td>174.631951</td>\n",
              "      <td>356.928821</td>\n",
              "      <td>88.860999</td>\n",
              "      <td>35.245965</td>\n",
              "    </tr>\n",
              "    <tr>\n",
              "      <th>2</th>\n",
              "      <td>2015-01-01 08:00:00</td>\n",
              "      <td>10</td>\n",
              "      <td>158.777566</td>\n",
              "      <td>467.162159</td>\n",
              "      <td>84.382394</td>\n",
              "      <td>37.975278</td>\n",
              "    </tr>\n",
              "    <tr>\n",
              "      <th>3</th>\n",
              "      <td>2015-01-01 09:00:00</td>\n",
              "      <td>10</td>\n",
              "      <td>178.128852</td>\n",
              "      <td>438.376292</td>\n",
              "      <td>105.870821</td>\n",
              "      <td>40.836263</td>\n",
              "    </tr>\n",
              "    <tr>\n",
              "      <th>4</th>\n",
              "      <td>2015-01-01 10:00:00</td>\n",
              "      <td>10</td>\n",
              "      <td>176.497316</td>\n",
              "      <td>364.918330</td>\n",
              "      <td>98.148214</td>\n",
              "      <td>35.511013</td>\n",
              "    </tr>\n",
              "  </tbody>\n",
              "</table>\n",
              "</div>\n",
              "      <button class=\"colab-df-convert\" onclick=\"convertToInteractive('df-05fec019-037a-41d5-8425-f1700ba6cb7d')\"\n",
              "              title=\"Convert this dataframe to an interactive table.\"\n",
              "              style=\"display:none;\">\n",
              "        \n",
              "  <svg xmlns=\"http://www.w3.org/2000/svg\" height=\"24px\"viewBox=\"0 0 24 24\"\n",
              "       width=\"24px\">\n",
              "    <path d=\"M0 0h24v24H0V0z\" fill=\"none\"/>\n",
              "    <path d=\"M18.56 5.44l.94 2.06.94-2.06 2.06-.94-2.06-.94-.94-2.06-.94 2.06-2.06.94zm-11 1L8.5 8.5l.94-2.06 2.06-.94-2.06-.94L8.5 2.5l-.94 2.06-2.06.94zm10 10l.94 2.06.94-2.06 2.06-.94-2.06-.94-.94-2.06-.94 2.06-2.06.94z\"/><path d=\"M17.41 7.96l-1.37-1.37c-.4-.4-.92-.59-1.43-.59-.52 0-1.04.2-1.43.59L10.3 9.45l-7.72 7.72c-.78.78-.78 2.05 0 2.83L4 21.41c.39.39.9.59 1.41.59.51 0 1.02-.2 1.41-.59l7.78-7.78 2.81-2.81c.8-.78.8-2.07 0-2.86zM5.41 20L4 18.59l7.72-7.72 1.47 1.35L5.41 20z\"/>\n",
              "  </svg>\n",
              "      </button>\n",
              "      \n",
              "  <style>\n",
              "    .colab-df-container {\n",
              "      display:flex;\n",
              "      flex-wrap:wrap;\n",
              "      gap: 12px;\n",
              "    }\n",
              "\n",
              "    .colab-df-convert {\n",
              "      background-color: #E8F0FE;\n",
              "      border: none;\n",
              "      border-radius: 50%;\n",
              "      cursor: pointer;\n",
              "      display: none;\n",
              "      fill: #1967D2;\n",
              "      height: 32px;\n",
              "      padding: 0 0 0 0;\n",
              "      width: 32px;\n",
              "    }\n",
              "\n",
              "    .colab-df-convert:hover {\n",
              "      background-color: #E2EBFA;\n",
              "      box-shadow: 0px 1px 2px rgba(60, 64, 67, 0.3), 0px 1px 3px 1px rgba(60, 64, 67, 0.15);\n",
              "      fill: #174EA6;\n",
              "    }\n",
              "\n",
              "    [theme=dark] .colab-df-convert {\n",
              "      background-color: #3B4455;\n",
              "      fill: #D2E3FC;\n",
              "    }\n",
              "\n",
              "    [theme=dark] .colab-df-convert:hover {\n",
              "      background-color: #434B5C;\n",
              "      box-shadow: 0px 1px 3px 1px rgba(0, 0, 0, 0.15);\n",
              "      filter: drop-shadow(0px 1px 2px rgba(0, 0, 0, 0.3));\n",
              "      fill: #FFFFFF;\n",
              "    }\n",
              "  </style>\n",
              "\n",
              "      <script>\n",
              "        const buttonEl =\n",
              "          document.querySelector('#df-05fec019-037a-41d5-8425-f1700ba6cb7d button.colab-df-convert');\n",
              "        buttonEl.style.display =\n",
              "          google.colab.kernel.accessAllowed ? 'block' : 'none';\n",
              "\n",
              "        async function convertToInteractive(key) {\n",
              "          const element = document.querySelector('#df-05fec019-037a-41d5-8425-f1700ba6cb7d');\n",
              "          const dataTable =\n",
              "            await google.colab.kernel.invokeFunction('convertToInteractive',\n",
              "                                                     [key], {});\n",
              "          if (!dataTable) return;\n",
              "\n",
              "          const docLinkHtml = 'Like what you see? Visit the ' +\n",
              "            '<a target=\"_blank\" href=https://colab.research.google.com/notebooks/data_table.ipynb>data table notebook</a>'\n",
              "            + ' to learn more about interactive tables.';\n",
              "          element.innerHTML = '';\n",
              "          dataTable['output_type'] = 'display_data';\n",
              "          await google.colab.output.renderOutput(dataTable, element);\n",
              "          const docLink = document.createElement('div');\n",
              "          docLink.innerHTML = docLinkHtml;\n",
              "          element.appendChild(docLink);\n",
              "        }\n",
              "      </script>\n",
              "    </div>\n",
              "  </div>\n",
              "  "
            ]
          },
          "metadata": {},
          "execution_count": 46
        }
      ]
    },
    {
      "cell_type": "code",
      "source": [
        "#Failure record of Machine 10\n",
        "sel_fail = failure_df.loc[failure_df['machineID']==10]\n",
        "pd.DataFrame(sel_fail)"
      ],
      "metadata": {
        "colab": {
          "base_uri": "https://localhost:8080/",
          "height": 205
        },
        "id": "jvGhP69HVK-N",
        "outputId": "5dfd6856-ba90-435f-d2aa-0681817469e7"
      },
      "execution_count": 47,
      "outputs": [
        {
          "output_type": "execute_result",
          "data": {
            "text/plain": [
              "               datetime  machineID failure\n",
              "55  2015-01-19 06:00:00         10   comp2\n",
              "219 2015-04-04 06:00:00         10   comp2\n",
              "308 2015-05-19 06:00:00         10   comp2\n",
              "338 2015-06-03 06:00:00         10   comp1\n",
              "367 2015-06-18 06:00:00         10   comp2"
            ],
            "text/html": [
              "\n",
              "  <div id=\"df-dd2a8525-2063-4e73-bf4e-5e5399734903\">\n",
              "    <div class=\"colab-df-container\">\n",
              "      <div>\n",
              "<style scoped>\n",
              "    .dataframe tbody tr th:only-of-type {\n",
              "        vertical-align: middle;\n",
              "    }\n",
              "\n",
              "    .dataframe tbody tr th {\n",
              "        vertical-align: top;\n",
              "    }\n",
              "\n",
              "    .dataframe thead th {\n",
              "        text-align: right;\n",
              "    }\n",
              "</style>\n",
              "<table border=\"1\" class=\"dataframe\">\n",
              "  <thead>\n",
              "    <tr style=\"text-align: right;\">\n",
              "      <th></th>\n",
              "      <th>datetime</th>\n",
              "      <th>machineID</th>\n",
              "      <th>failure</th>\n",
              "    </tr>\n",
              "  </thead>\n",
              "  <tbody>\n",
              "    <tr>\n",
              "      <th>55</th>\n",
              "      <td>2015-01-19 06:00:00</td>\n",
              "      <td>10</td>\n",
              "      <td>comp2</td>\n",
              "    </tr>\n",
              "    <tr>\n",
              "      <th>219</th>\n",
              "      <td>2015-04-04 06:00:00</td>\n",
              "      <td>10</td>\n",
              "      <td>comp2</td>\n",
              "    </tr>\n",
              "    <tr>\n",
              "      <th>308</th>\n",
              "      <td>2015-05-19 06:00:00</td>\n",
              "      <td>10</td>\n",
              "      <td>comp2</td>\n",
              "    </tr>\n",
              "    <tr>\n",
              "      <th>338</th>\n",
              "      <td>2015-06-03 06:00:00</td>\n",
              "      <td>10</td>\n",
              "      <td>comp1</td>\n",
              "    </tr>\n",
              "    <tr>\n",
              "      <th>367</th>\n",
              "      <td>2015-06-18 06:00:00</td>\n",
              "      <td>10</td>\n",
              "      <td>comp2</td>\n",
              "    </tr>\n",
              "  </tbody>\n",
              "</table>\n",
              "</div>\n",
              "      <button class=\"colab-df-convert\" onclick=\"convertToInteractive('df-dd2a8525-2063-4e73-bf4e-5e5399734903')\"\n",
              "              title=\"Convert this dataframe to an interactive table.\"\n",
              "              style=\"display:none;\">\n",
              "        \n",
              "  <svg xmlns=\"http://www.w3.org/2000/svg\" height=\"24px\"viewBox=\"0 0 24 24\"\n",
              "       width=\"24px\">\n",
              "    <path d=\"M0 0h24v24H0V0z\" fill=\"none\"/>\n",
              "    <path d=\"M18.56 5.44l.94 2.06.94-2.06 2.06-.94-2.06-.94-.94-2.06-.94 2.06-2.06.94zm-11 1L8.5 8.5l.94-2.06 2.06-.94-2.06-.94L8.5 2.5l-.94 2.06-2.06.94zm10 10l.94 2.06.94-2.06 2.06-.94-2.06-.94-.94-2.06-.94 2.06-2.06.94z\"/><path d=\"M17.41 7.96l-1.37-1.37c-.4-.4-.92-.59-1.43-.59-.52 0-1.04.2-1.43.59L10.3 9.45l-7.72 7.72c-.78.78-.78 2.05 0 2.83L4 21.41c.39.39.9.59 1.41.59.51 0 1.02-.2 1.41-.59l7.78-7.78 2.81-2.81c.8-.78.8-2.07 0-2.86zM5.41 20L4 18.59l7.72-7.72 1.47 1.35L5.41 20z\"/>\n",
              "  </svg>\n",
              "      </button>\n",
              "      \n",
              "  <style>\n",
              "    .colab-df-container {\n",
              "      display:flex;\n",
              "      flex-wrap:wrap;\n",
              "      gap: 12px;\n",
              "    }\n",
              "\n",
              "    .colab-df-convert {\n",
              "      background-color: #E8F0FE;\n",
              "      border: none;\n",
              "      border-radius: 50%;\n",
              "      cursor: pointer;\n",
              "      display: none;\n",
              "      fill: #1967D2;\n",
              "      height: 32px;\n",
              "      padding: 0 0 0 0;\n",
              "      width: 32px;\n",
              "    }\n",
              "\n",
              "    .colab-df-convert:hover {\n",
              "      background-color: #E2EBFA;\n",
              "      box-shadow: 0px 1px 2px rgba(60, 64, 67, 0.3), 0px 1px 3px 1px rgba(60, 64, 67, 0.15);\n",
              "      fill: #174EA6;\n",
              "    }\n",
              "\n",
              "    [theme=dark] .colab-df-convert {\n",
              "      background-color: #3B4455;\n",
              "      fill: #D2E3FC;\n",
              "    }\n",
              "\n",
              "    [theme=dark] .colab-df-convert:hover {\n",
              "      background-color: #434B5C;\n",
              "      box-shadow: 0px 1px 3px 1px rgba(0, 0, 0, 0.15);\n",
              "      filter: drop-shadow(0px 1px 2px rgba(0, 0, 0, 0.3));\n",
              "      fill: #FFFFFF;\n",
              "    }\n",
              "  </style>\n",
              "\n",
              "      <script>\n",
              "        const buttonEl =\n",
              "          document.querySelector('#df-dd2a8525-2063-4e73-bf4e-5e5399734903 button.colab-df-convert');\n",
              "        buttonEl.style.display =\n",
              "          google.colab.kernel.accessAllowed ? 'block' : 'none';\n",
              "\n",
              "        async function convertToInteractive(key) {\n",
              "          const element = document.querySelector('#df-dd2a8525-2063-4e73-bf4e-5e5399734903');\n",
              "          const dataTable =\n",
              "            await google.colab.kernel.invokeFunction('convertToInteractive',\n",
              "                                                     [key], {});\n",
              "          if (!dataTable) return;\n",
              "\n",
              "          const docLinkHtml = 'Like what you see? Visit the ' +\n",
              "            '<a target=\"_blank\" href=https://colab.research.google.com/notebooks/data_table.ipynb>data table notebook</a>'\n",
              "            + ' to learn more about interactive tables.';\n",
              "          element.innerHTML = '';\n",
              "          dataTable['output_type'] = 'display_data';\n",
              "          await google.colab.output.renderOutput(dataTable, element);\n",
              "          const docLink = document.createElement('div');\n",
              "          docLink.innerHTML = docLinkHtml;\n",
              "          element.appendChild(docLink);\n",
              "        }\n",
              "      </script>\n",
              "    </div>\n",
              "  </div>\n",
              "  "
            ]
          },
          "metadata": {},
          "execution_count": 47
        }
      ]
    },
    {
      "cell_type": "code",
      "source": [
        "#Error Record of Machine 10\n",
        "sel_err = errors_df.loc[errors_df['machineID']==10]\n",
        "pd.DataFrame(sel_err).head()"
      ],
      "metadata": {
        "colab": {
          "base_uri": "https://localhost:8080/",
          "height": 205
        },
        "id": "3rVgXzLzgaEo",
        "outputId": "4e2594f1-8045-41b1-ccf5-e016ddd27bd1"
      },
      "execution_count": 48,
      "outputs": [
        {
          "output_type": "execute_result",
          "data": {
            "text/plain": [
              "               datetime  machineID errorID\n",
              "10  2015-01-01 20:00:00         10  error1\n",
              "67  2015-01-06 04:00:00         10  error3\n",
              "193 2015-01-18 06:00:00         10  error2\n",
              "194 2015-01-18 06:00:00         10  error3\n",
              "247 2015-01-22 05:00:00         10  error1"
            ],
            "text/html": [
              "\n",
              "  <div id=\"df-08c24b71-0b08-4c46-b48e-248f78b590c0\">\n",
              "    <div class=\"colab-df-container\">\n",
              "      <div>\n",
              "<style scoped>\n",
              "    .dataframe tbody tr th:only-of-type {\n",
              "        vertical-align: middle;\n",
              "    }\n",
              "\n",
              "    .dataframe tbody tr th {\n",
              "        vertical-align: top;\n",
              "    }\n",
              "\n",
              "    .dataframe thead th {\n",
              "        text-align: right;\n",
              "    }\n",
              "</style>\n",
              "<table border=\"1\" class=\"dataframe\">\n",
              "  <thead>\n",
              "    <tr style=\"text-align: right;\">\n",
              "      <th></th>\n",
              "      <th>datetime</th>\n",
              "      <th>machineID</th>\n",
              "      <th>errorID</th>\n",
              "    </tr>\n",
              "  </thead>\n",
              "  <tbody>\n",
              "    <tr>\n",
              "      <th>10</th>\n",
              "      <td>2015-01-01 20:00:00</td>\n",
              "      <td>10</td>\n",
              "      <td>error1</td>\n",
              "    </tr>\n",
              "    <tr>\n",
              "      <th>67</th>\n",
              "      <td>2015-01-06 04:00:00</td>\n",
              "      <td>10</td>\n",
              "      <td>error3</td>\n",
              "    </tr>\n",
              "    <tr>\n",
              "      <th>193</th>\n",
              "      <td>2015-01-18 06:00:00</td>\n",
              "      <td>10</td>\n",
              "      <td>error2</td>\n",
              "    </tr>\n",
              "    <tr>\n",
              "      <th>194</th>\n",
              "      <td>2015-01-18 06:00:00</td>\n",
              "      <td>10</td>\n",
              "      <td>error3</td>\n",
              "    </tr>\n",
              "    <tr>\n",
              "      <th>247</th>\n",
              "      <td>2015-01-22 05:00:00</td>\n",
              "      <td>10</td>\n",
              "      <td>error1</td>\n",
              "    </tr>\n",
              "  </tbody>\n",
              "</table>\n",
              "</div>\n",
              "      <button class=\"colab-df-convert\" onclick=\"convertToInteractive('df-08c24b71-0b08-4c46-b48e-248f78b590c0')\"\n",
              "              title=\"Convert this dataframe to an interactive table.\"\n",
              "              style=\"display:none;\">\n",
              "        \n",
              "  <svg xmlns=\"http://www.w3.org/2000/svg\" height=\"24px\"viewBox=\"0 0 24 24\"\n",
              "       width=\"24px\">\n",
              "    <path d=\"M0 0h24v24H0V0z\" fill=\"none\"/>\n",
              "    <path d=\"M18.56 5.44l.94 2.06.94-2.06 2.06-.94-2.06-.94-.94-2.06-.94 2.06-2.06.94zm-11 1L8.5 8.5l.94-2.06 2.06-.94-2.06-.94L8.5 2.5l-.94 2.06-2.06.94zm10 10l.94 2.06.94-2.06 2.06-.94-2.06-.94-.94-2.06-.94 2.06-2.06.94z\"/><path d=\"M17.41 7.96l-1.37-1.37c-.4-.4-.92-.59-1.43-.59-.52 0-1.04.2-1.43.59L10.3 9.45l-7.72 7.72c-.78.78-.78 2.05 0 2.83L4 21.41c.39.39.9.59 1.41.59.51 0 1.02-.2 1.41-.59l7.78-7.78 2.81-2.81c.8-.78.8-2.07 0-2.86zM5.41 20L4 18.59l7.72-7.72 1.47 1.35L5.41 20z\"/>\n",
              "  </svg>\n",
              "      </button>\n",
              "      \n",
              "  <style>\n",
              "    .colab-df-container {\n",
              "      display:flex;\n",
              "      flex-wrap:wrap;\n",
              "      gap: 12px;\n",
              "    }\n",
              "\n",
              "    .colab-df-convert {\n",
              "      background-color: #E8F0FE;\n",
              "      border: none;\n",
              "      border-radius: 50%;\n",
              "      cursor: pointer;\n",
              "      display: none;\n",
              "      fill: #1967D2;\n",
              "      height: 32px;\n",
              "      padding: 0 0 0 0;\n",
              "      width: 32px;\n",
              "    }\n",
              "\n",
              "    .colab-df-convert:hover {\n",
              "      background-color: #E2EBFA;\n",
              "      box-shadow: 0px 1px 2px rgba(60, 64, 67, 0.3), 0px 1px 3px 1px rgba(60, 64, 67, 0.15);\n",
              "      fill: #174EA6;\n",
              "    }\n",
              "\n",
              "    [theme=dark] .colab-df-convert {\n",
              "      background-color: #3B4455;\n",
              "      fill: #D2E3FC;\n",
              "    }\n",
              "\n",
              "    [theme=dark] .colab-df-convert:hover {\n",
              "      background-color: #434B5C;\n",
              "      box-shadow: 0px 1px 3px 1px rgba(0, 0, 0, 0.15);\n",
              "      filter: drop-shadow(0px 1px 2px rgba(0, 0, 0, 0.3));\n",
              "      fill: #FFFFFF;\n",
              "    }\n",
              "  </style>\n",
              "\n",
              "      <script>\n",
              "        const buttonEl =\n",
              "          document.querySelector('#df-08c24b71-0b08-4c46-b48e-248f78b590c0 button.colab-df-convert');\n",
              "        buttonEl.style.display =\n",
              "          google.colab.kernel.accessAllowed ? 'block' : 'none';\n",
              "\n",
              "        async function convertToInteractive(key) {\n",
              "          const element = document.querySelector('#df-08c24b71-0b08-4c46-b48e-248f78b590c0');\n",
              "          const dataTable =\n",
              "            await google.colab.kernel.invokeFunction('convertToInteractive',\n",
              "                                                     [key], {});\n",
              "          if (!dataTable) return;\n",
              "\n",
              "          const docLinkHtml = 'Like what you see? Visit the ' +\n",
              "            '<a target=\"_blank\" href=https://colab.research.google.com/notebooks/data_table.ipynb>data table notebook</a>'\n",
              "            + ' to learn more about interactive tables.';\n",
              "          element.innerHTML = '';\n",
              "          dataTable['output_type'] = 'display_data';\n",
              "          await google.colab.output.renderOutput(dataTable, element);\n",
              "          const docLink = document.createElement('div');\n",
              "          docLink.innerHTML = docLinkHtml;\n",
              "          element.appendChild(docLink);\n",
              "        }\n",
              "      </script>\n",
              "    </div>\n",
              "  </div>\n",
              "  "
            ]
          },
          "metadata": {},
          "execution_count": 48
        }
      ]
    },
    {
      "cell_type": "markdown",
      "source": [
        "As per the Kaggle Dataset, error refers to non-breaking events while failure referes to event that cause the machine to fail.\n",
        "\n",
        "So, using chronological plot we will define how error and failure relate with each other."
      ],
      "metadata": {
        "id": "DZoamgrPxis8"
      }
    },
    {
      "cell_type": "code",
      "source": [
        "fig, ax = plt.subplots()\n",
        "\n",
        "#Using two values in the y-axis to make it simpler and differentiate between Error and Failure\n",
        "y_category = list()\n",
        "\n",
        "for iter in range(0, len(sel_fail)):\n",
        "  y_category.append(\"Failure\")\n",
        "\n",
        "for iter in range(0, len(sel_err)):\n",
        "  y_category.append(\"Error\")\n",
        "\n",
        "#Timestamp from error and selected failure\n",
        "timestamp_df = pd.concat([sel_fail['datetime'],sel_err['datetime']], ignore_index=True, axis = 0)\n",
        "plot_df = pd.DataFrame({'timestamp':timestamp_df,\"category\":y_category})\n",
        "plot_df.loc[:, 'timestamp'] = pd.to_datetime(plot_df.loc[:, 'timestamp'])\n",
        "plot_df.sort_values(by=['timestamp'],inplace = True, ignore_index=True)\n",
        "\n",
        "# Plotting timestamp as per x-axis\n",
        "ax.scatter('timestamp', 'category', data = plot_df)\n",
        "year_fmt = mdates.DateFormatter('%Y-%m-%d')\n",
        "ax.xaxis.set_major_formatter(year_fmt)\n",
        "ax.tick_params(axis='x',rotation=45)\n",
        "ax.grid()"
      ],
      "metadata": {
        "colab": {
          "base_uri": "https://localhost:8080/",
          "height": 302
        },
        "id": "NGMg5D2BguVw",
        "outputId": "5d0d7d60-ebcf-430d-9897-27c2e60055de"
      },
      "execution_count": 49,
      "outputs": [
        {
          "output_type": "display_data",
          "data": {
            "text/plain": [
              "<Figure size 432x288 with 1 Axes>"
            ],
            "image/png": "[encoded data removed]"
          },
          "metadata": {
            "needs_background": "light"
          }
        }
      ]
    },
    {
      "cell_type": "markdown",
      "source": [
        "From the above plot, we can see that failure are often times preceded by error in the machines. However, not all error results in immediate failure. Some times may passes before the failure in machine occurs.\n",
        "\n",
        "So, we gotta be focusing on failure data and check which feature is effected by Machine Failure."
      ],
      "metadata": {
        "id": "u2JKUwK13jyj"
      }
    },
    {
      "cell_type": "code",
      "source": [
        "#Feature Check\n",
        "#Selecting Time Window from the failure record, then plotting each feature and checking there event of failures\n",
        "\n",
        "df_sin.loc[:, 'datetime'] = pd.to_datetime(df_sin.loc[:, 'datetime']) #Changing Datatype of the timestamp column from object to datetime\n",
        "st = df_sin.loc[df_sin['datetime']==\"2015-02-19\"].index.values[0] #Select the date to check from failure record\n",
        "\n",
        "#Filtering the telemetry data by the date and allow 7 days before and after\n",
        "#The error will occure to check any abnormalities\n",
        "select = df_sin.loc[st-7*24:st + 7*24, :]\n",
        "\n",
        "#Plot Volt and Rotation Feature\n",
        "fig, ax = plt.subplots(nrows=2, sharex=True)\n",
        "ax[0].plot('datetime','volt', data=select)\n",
        "ax[0].set_ylabel('Volt')\n",
        "\n",
        "ax[1].plot('datetime','rotate',data=select)\n",
        "ax[1].tick_params(axis='x',rotation = 45)\n",
        "ax[1].set_xlabel(\"Timestamp\")\n",
        "ax[1].set_ylabel(\"Rotation\")"
      ],
      "metadata": {
        "colab": {
          "base_uri": "https://localhost:8080/",
          "height": 337
        },
        "id": "l56x0NsDyf2q",
        "outputId": "bcc6f794-54da-4a89-89a1-9995ac7b382c"
      },
      "execution_count": 50,
      "outputs": [
        {
          "output_type": "execute_result",
          "data": {
            "text/plain": [
              "Text(0, 0.5, 'Rotation')"
            ]
          },
          "metadata": {},
          "execution_count": 50
        },
        {
          "output_type": "display_data",
          "data": {
            "text/plain": [
              "<Figure size 432x288 with 2 Axes>"
            ],
            "image/png": "[encoded data removed]"
          },
          "metadata": {
            "needs_background": "light"
          }
        }
      ]
    },
    {
      "cell_type": "markdown",
      "source": [
        "As per the observation by above plots, there is no noticeable anamolies are shown around the period of 2015-02-19. \n",
        "\n",
        "Now we will check both Pressure and Vibration features by Plotting them."
      ],
      "metadata": {
        "id": "7cmxFu0W7Zpn"
      }
    },
    {
      "cell_type": "code",
      "source": [
        "fig, ax = plt.subplots(nrows=2, sharex=True)\n",
        "ax[0].plot('datetime','pressure',data=select)\n",
        "ax[0].set_ylabel('Pressure')\n",
        "\n",
        "ax[1].plot('datetime','vibration',data=select)\n",
        "ax[1].tick_params(axis='x',rotation = 45)\n",
        "ax[1].set_xlabel(\"Timestamp\")\n",
        "ax[1].set_ylabel(\"Vibrations\")"
      ],
      "metadata": {
        "colab": {
          "base_uri": "https://localhost:8080/",
          "height": 337
        },
        "id": "iGAxSJPj7WxN",
        "outputId": "a2a96699-23cc-4e56-fd6b-452792df806e"
      },
      "execution_count": 51,
      "outputs": [
        {
          "output_type": "execute_result",
          "data": {
            "text/plain": [
              "Text(0, 0.5, 'Vibrations')"
            ]
          },
          "metadata": {},
          "execution_count": 51
        },
        {
          "output_type": "display_data",
          "data": {
            "text/plain": [
              "<Figure size 432x288 with 2 Axes>"
            ],
            "image/png": "[encoded data removed]"
          },
          "metadata": {
            "needs_background": "light"
          }
        }
      ]
    },
    {
      "cell_type": "code",
      "source": [
        "#Plotting Distribution of Voltage, Rotate, Pressure, and Vibrations\n",
        "for name in ['volt','rotate','pressure','vibration']:\n",
        "  plot_hist(telemetry_df, feature_name=name, log=False, bins=1000)"
      ],
      "metadata": {
        "colab": {
          "base_uri": "https://localhost:8080/",
          "height": 1000
        },
        "id": "1ywMVesf85Ep",
        "outputId": "b33c8319-81d3-478d-e1bd-a43b3ac41c1e"
      },
      "execution_count": 52,
      "outputs": [
        {
          "output_type": "display_data",
          "data": {
            "text/plain": [
              "<Figure size 1080x360 with 1 Axes>"
            ],
            "image/png": "[encoded data removed]"
          },
          "metadata": {
            "needs_background": "light"
          }
        },
        {
          "output_type": "display_data",
          "data": {
            "text/plain": [
              "<Figure size 1080x360 with 1 Axes>"
            ],
            "image/png": "[encoded data removed]"
          },
          "metadata": {
            "needs_background": "light"
          }
        },
        {
          "output_type": "display_data",
          "data": {
            "text/plain": [
              "<Figure size 1080x360 with 1 Axes>"
            ],
            "image/png": "[encoded data removed]"
          },
          "metadata": {
            "needs_background": "light"
          }
        },
        {
          "output_type": "display_data",
          "data": {
            "text/plain": [
              "<Figure size 1080x360 with 1 Axes>"
            ],
            "image/png": "[encoded data removed]"
          },
          "metadata": {
            "needs_background": "light"
          }
        }
      ]
    },
    {
      "cell_type": "markdown",
      "source": [
        "This indicates the possibilty of Synethetically generated data.\n",
        "\n",
        "**The data may be Normally Distributed**\n",
        "\n",
        "---\n",
        "\n"
      ],
      "metadata": {
        "id": "_pXWJrZ7-k14"
      }
    },
    {
      "cell_type": "markdown",
      "source": [
        "#Checking Autocorrelation and Partial Correlation\n",
        "\n",
        "As we are using Time Series Forecasting for doing Autocorrelation and Partial Correlation function of the Data as it influence our model selection and parmater selection."
      ],
      "metadata": {
        "id": "yMHRDtmx_MVD"
      }
    },
    {
      "cell_type": "code",
      "source": [
        "from statsmodels.graphics.tsaplots import plot_acf, plot_pacf      #Importing Plotting Function\n",
        "\n",
        "\n",
        "#Autocorrelation Plot\n",
        "plot_acf(df_sin['pressure'],lags=40)\n",
        "plt.show()"
      ],
      "metadata": {
        "colab": {
          "base_uri": "https://localhost:8080/",
          "height": 282
        },
        "id": "qy4lbxvE9xjv",
        "outputId": "78e45a80-5180-4844-92c6-a71051995f08"
      },
      "execution_count": 53,
      "outputs": [
        {
          "output_type": "display_data",
          "data": {
            "text/plain": [
              "<Figure size 432x288 with 1 Axes>"
            ],
            "image/png": "[encoded data removed]"
          },
          "metadata": {
            "needs_background": "light"
          }
        }
      ]
    },
    {
      "cell_type": "markdown",
      "source": [
        "As per the above plot, we can say data is positively correlated up to lags 40.\n",
        "\n",
        "Where the autocorrelation value itself is quite low, indicating that data does not have a strong autocorrelation properties."
      ],
      "metadata": {
        "id": "ZdKPs-kpBoau"
      }
    },
    {
      "cell_type": "code",
      "source": [
        "#Partial Correlation Plot\n",
        "plot_pacf(df_sin['pressure'],lags=40)\n",
        "plt.show()"
      ],
      "metadata": {
        "colab": {
          "base_uri": "https://localhost:8080/",
          "height": 282
        },
        "id": "A3Oede2TBPE7",
        "outputId": "a6a3f0c6-6101-49e5-9d05-44883d8c53cf"
      },
      "execution_count": 54,
      "outputs": [
        {
          "output_type": "display_data",
          "data": {
            "text/plain": [
              "<Figure size 432x288 with 1 Axes>"
            ],
            "image/png": "[encoded data removed]"
          },
          "metadata": {
            "needs_background": "light"
          }
        }
      ]
    },
    {
      "cell_type": "markdown",
      "source": [
        "As per the above plot, we can say the correlation between two different points in time is also quite week, decaying to zero starting in the 15th Lags. \n",
        "\n",
        "\n",
        "\n",
        "---\n",
        "\n"
      ],
      "metadata": {
        "id": "g4Ml6r0CCUUM"
      }
    },
    {
      "cell_type": "markdown",
      "source": [
        "# Model Selection\n",
        "\n",
        "**Preparing Data Input and Output**\n",
        "We are using LSTM algorithm. For experimenting, we will be using training data of 1 month containing 2015-03-20 period where failure happened to predict another failure which occure at 2015-05-21 according to failure record.\n",
        "\n",
        "The feature we are going to use is Pressure reading and Timestamp."
      ],
      "metadata": {
        "id": "luOyzlqVCoxW"
      }
    },
    {
      "cell_type": "code",
      "source": [
        "from sklearn.preprocessing import MinMaxScaler\n",
        "from sklearn.model_selection import train_test_split\n",
        "\n",
        "#Selecting the date to check from failure records\n",
        "st_train = df_sin.loc[df_sin['datetime']==\"2015-03-20\"].index.values[0]\n",
        "\n",
        "#Filtering data to include approximately one month window\n",
        "start_period = st_train-14*24\n",
        "end_period = st_train+14*24\n",
        "\n",
        "def create_feature(start,end):  #Creating Feature from selected machine\n",
        "  pressure = df_sin.loc[start: end, 'pressure']\n",
        "  timestamp = pd.to_datetime(df_sin.loc[start: end, 'datetime'])\n",
        "  timestamp_hour = timestamp.map(lambda x: x.hour)\n",
        "  timestamp_dow = timestamp.map(lambda x: x.dayofweek)\n",
        "\n",
        "  #Applying one-hot encode for timestamp data\n",
        "  timestamp_hour_onehot = pd.get_dummies(timestamp_hour).to_numpy()\n",
        "\n",
        "  #Applying Min Max to numerical data\n",
        "  scaler = MinMaxScaler()\n",
        "  pressure = scaler.fit_transform(np.array(pressure).reshape(-1,1))\n",
        "\n",
        "  #Combining Features Into One\n",
        "  feature = np.concatenate([pressure, timestamp_hour_onehot],axis=1)\n",
        "  X = feature[:-1]\n",
        "  y = np.array(feature[5:,0]).reshape(-1,1)\n",
        "  return X, y, scaler\n",
        "\n",
        "X, y, pres_scaler = create_feature(start_period, end_period)\n"
      ],
      "metadata": {
        "id": "gQEtpx2NBkX7"
      },
      "execution_count": 55,
      "outputs": []
    },
    {
      "cell_type": "markdown",
      "source": [
        "We need to shape the input further into a sequence i.e 3-dimensional numpy array. We will be using a function to return input and output sequence where each input sequence consist of 5-points observation. \n",
        "\n",
        "How:- Putting Observation of **Past 5 Hours** will be used to predict the sensor reading for the **Next 1 Hour**"
      ],
      "metadata": {
        "id": "8OuPwQPAVNUE"
      }
    },
    {
      "cell_type": "code",
      "source": [
        "def shape_sequence(arr, step, start):\n",
        "  out = list()\n",
        "  for i in range(start, arr.shape[0]):\n",
        "    low_lim = i\n",
        "    up_lim = low_lim + step\n",
        "    out.append(arr[low_lim: up_lim])\n",
        "\n",
        "    if up_lim == arr.shape[0]:\n",
        "      break\n",
        "\n",
        "  out_seq = np.array(out)\n",
        "  return out_seq\n",
        "\n",
        "#Shaping the sequence according to the length\n",
        "X_seq = shape_sequence(X,5,0)\n",
        "y_seq = shape_sequence(y,1,0)\n",
        "\n",
        "#Seperating Input and Output for train and Validation\n",
        "X_train, X_val, y_train, y_val = train_test_split(X_seq, y_seq, test_size=0.2, shuffle=False)\n",
        "\n",
        "print(\"Training Data Shape: \", X_train.shape)\n",
        "print(\"Validating Data Shape: \", X_val.shape)"
      ],
      "metadata": {
        "colab": {
          "base_uri": "https://localhost:8080/"
        },
        "id": "vlPBtNnKUSbc",
        "outputId": "f44e4673-6246-4ea3-a719-862ba40c8088"
      },
      "execution_count": 56,
      "outputs": [
        {
          "output_type": "stream",
          "name": "stdout",
          "text": [
            "Training Data Shape:  (534, 5, 25)\n",
            "Validating Data Shape:  (134, 5, 25)\n"
          ]
        }
      ]
    },
    {
      "cell_type": "markdown",
      "source": [
        "\n",
        "\n",
        "---\n",
        "\n"
      ],
      "metadata": {
        "id": "SjSNuAedZChm"
      }
    },
    {
      "cell_type": "markdown",
      "source": [
        "#**Creating Prediction Model**\n",
        "\n",
        "Creating a simple 2-layer LSTM moel with input shape matching the shape of the data sequence provided."
      ],
      "metadata": {
        "id": "kZ7ne7V6ZItI"
      }
    },
    {
      "cell_type": "code",
      "source": [
        "from tensorflow.keras.models import Sequential\n",
        "from tensorflow.keras.layers import LSTM, Dense, Dropout\n",
        "from tensorflow.keras.optimizers import Adam\n",
        "from tensorflow.keras.losses import MeanSquaredError\n",
        "from tensorflow.keras.callbacks import ModelCheckpoint\n",
        "import tensorflow.keras.losses as loss\n",
        "\n",
        "def create_model(X_train, y_train):\n",
        "  shape = X_train.shape[1]\n",
        "  feat_length = X_train.shape[2]\n",
        "\n",
        "  model = Sequential()\n",
        "  model.add(LSTM(shape, activation='tanh', input_shape = (shape, feat_length), return_sequences=True))\n",
        "  model.add(LSTM(shape, activation = 'tanh',input_shape=(shape, feat_length), return_sequences=False))\n",
        "  model.add(Dense(shape, activation='relu'))\n",
        "  model.add(Dense(1, activation='linear'))\n",
        "  model.compile(optimizer=Adam(lr=0.035), loss=loss.mean_squared_error)\n",
        "  model.fit(X_train, y_train, verbose=1, epochs=500)\n",
        "  return model \n",
        "\n",
        "model = create_model(X_train, y_train)"
      ],
      "metadata": {
        "colab": {
          "base_uri": "https://localhost:8080/"
        },
        "id": "ytjfVPM_ZEAa",
        "outputId": "7fef9e5f-605a-4bb7-d78c-139c3b1bae9b"
      },
      "execution_count": null,
      "outputs": [
        {
          "output_type": "stream",
          "name": "stdout",
          "text": [
            "Epoch 1/500\n"
          ]
        },
        {
          "output_type": "stream",
          "name": "stderr",
          "text": [
            "/usr/local/lib/python3.7/dist-packages/keras/optimizer_v2/adam.py:105: UserWarning: The `lr` argument is deprecated, use `learning_rate` instead.\n",
            "  super(Adam, self).__init__(name, **kwargs)\n"
          ]
        },
        {
          "output_type": "stream",
          "name": "stdout",
          "text": [
            "17/17 [==============================] - 6s 8ms/step - loss: 0.0522\n",
            "Epoch 2/500\n",
            "17/17 [==============================] - 0s 8ms/step - loss: 0.0214\n",
            "Epoch 3/500\n",
            "17/17 [==============================] - 0s 11ms/step - loss: 0.0210\n",
            "Epoch 4/500\n",
            "17/17 [==============================] - 0s 10ms/step - loss: 0.0209\n",
            "Epoch 5/500\n",
            "17/17 [==============================] - 0s 9ms/step - loss: 0.0211\n",
            "Epoch 6/500\n",
            "17/17 [==============================] - 0s 9ms/step - loss: 0.0208\n",
            "Epoch 7/500\n",
            "17/17 [==============================] - 0s 8ms/step - loss: 0.0211\n",
            "Epoch 8/500\n",
            "17/17 [==============================] - 0s 9ms/step - loss: 0.0213\n",
            "Epoch 9/500\n",
            "17/17 [==============================] - 0s 7ms/step - loss: 0.0212\n",
            "Epoch 10/500\n",
            "17/17 [==============================] - 0s 8ms/step - loss: 0.0229\n",
            "Epoch 11/500\n",
            "17/17 [==============================] - 0s 9ms/step - loss: 0.0218\n",
            "Epoch 12/500\n",
            "17/17 [==============================] - 0s 8ms/step - loss: 0.0208\n",
            "Epoch 13/500\n",
            "17/17 [==============================] - 0s 8ms/step - loss: 0.0207\n",
            "Epoch 14/500\n",
            "17/17 [==============================] - 0s 7ms/step - loss: 0.0218\n",
            "Epoch 15/500\n",
            "17/17 [==============================] - 0s 7ms/step - loss: 0.0220\n",
            "Epoch 16/500\n",
            "17/17 [==============================] - 0s 9ms/step - loss: 0.0217\n",
            "Epoch 17/500\n",
            "17/17 [==============================] - 0s 9ms/step - loss: 0.0208\n",
            "Epoch 18/500\n",
            "17/17 [==============================] - 0s 9ms/step - loss: 0.0207\n",
            "Epoch 19/500\n",
            "17/17 [==============================] - 0s 18ms/step - loss: 0.0206\n",
            "Epoch 20/500\n",
            "17/17 [==============================] - 0s 13ms/step - loss: 0.0207\n",
            "Epoch 21/500\n",
            "17/17 [==============================] - 0s 14ms/step - loss: 0.0206\n",
            "Epoch 22/500\n",
            "17/17 [==============================] - 0s 12ms/step - loss: 0.0208\n",
            "Epoch 23/500\n",
            "17/17 [==============================] - 0s 10ms/step - loss: 0.0204\n",
            "Epoch 24/500\n",
            "17/17 [==============================] - 0s 5ms/step - loss: 0.0206\n",
            "Epoch 25/500\n",
            "17/17 [==============================] - 0s 5ms/step - loss: 0.0212\n",
            "Epoch 26/500\n",
            "17/17 [==============================] - 0s 5ms/step - loss: 0.0211\n",
            "Epoch 27/500\n",
            "17/17 [==============================] - 0s 5ms/step - loss: 0.0206\n",
            "Epoch 28/500\n",
            "17/17 [==============================] - 0s 5ms/step - loss: 0.0203\n",
            "Epoch 29/500\n",
            "17/17 [==============================] - 0s 5ms/step - loss: 0.0204\n",
            "Epoch 30/500\n",
            "17/17 [==============================] - 0s 5ms/step - loss: 0.0204\n",
            "Epoch 31/500\n",
            "17/17 [==============================] - 0s 5ms/step - loss: 0.0210\n",
            "Epoch 32/500\n",
            "17/17 [==============================] - 0s 5ms/step - loss: 0.0204\n",
            "Epoch 33/500\n",
            "17/17 [==============================] - 0s 5ms/step - loss: 0.0205\n",
            "Epoch 34/500\n",
            "17/17 [==============================] - 0s 5ms/step - loss: 0.0206\n",
            "Epoch 35/500\n",
            "17/17 [==============================] - 0s 5ms/step - loss: 0.0206\n",
            "Epoch 36/500\n",
            "17/17 [==============================] - 0s 5ms/step - loss: 0.0215\n",
            "Epoch 37/500\n",
            "17/17 [==============================] - 0s 5ms/step - loss: 0.0213\n",
            "Epoch 38/500\n",
            "17/17 [==============================] - 0s 5ms/step - loss: 0.0205\n",
            "Epoch 39/500\n",
            "17/17 [==============================] - 0s 5ms/step - loss: 0.0206\n",
            "Epoch 40/500\n",
            "17/17 [==============================] - 0s 6ms/step - loss: 0.0202\n",
            "Epoch 41/500\n",
            "17/17 [==============================] - 0s 6ms/step - loss: 0.0204\n",
            "Epoch 42/500\n",
            "17/17 [==============================] - 0s 6ms/step - loss: 0.0205\n",
            "Epoch 43/500\n",
            "17/17 [==============================] - 0s 5ms/step - loss: 0.0205\n",
            "Epoch 44/500\n",
            "17/17 [==============================] - 0s 5ms/step - loss: 0.0205\n",
            "Epoch 45/500\n",
            "17/17 [==============================] - 0s 5ms/step - loss: 0.0206\n",
            "Epoch 46/500\n",
            "17/17 [==============================] - 0s 5ms/step - loss: 0.0206\n",
            "Epoch 47/500\n",
            "17/17 [==============================] - 0s 6ms/step - loss: 0.0206\n",
            "Epoch 48/500\n",
            "17/17 [==============================] - 0s 5ms/step - loss: 0.0204\n",
            "Epoch 49/500\n",
            "17/17 [==============================] - 0s 6ms/step - loss: 0.0201\n",
            "Epoch 50/500\n",
            "17/17 [==============================] - 0s 7ms/step - loss: 0.0213\n",
            "Epoch 51/500\n",
            "17/17 [==============================] - 0s 6ms/step - loss: 0.0208\n",
            "Epoch 52/500\n",
            "17/17 [==============================] - 0s 5ms/step - loss: 0.0209\n",
            "Epoch 53/500\n",
            "17/17 [==============================] - 0s 5ms/step - loss: 0.0200\n",
            "Epoch 54/500\n",
            "17/17 [==============================] - 0s 5ms/step - loss: 0.0200\n",
            "Epoch 55/500\n",
            "17/17 [==============================] - 0s 5ms/step - loss: 0.0204\n",
            "Epoch 56/500\n",
            "17/17 [==============================] - 0s 5ms/step - loss: 0.0203\n",
            "Epoch 57/500\n",
            "17/17 [==============================] - 0s 5ms/step - loss: 0.0205\n",
            "Epoch 58/500\n",
            "17/17 [==============================] - 0s 5ms/step - loss: 0.0200\n",
            "Epoch 59/500\n",
            "17/17 [==============================] - 0s 6ms/step - loss: 0.0201\n",
            "Epoch 60/500\n",
            "17/17 [==============================] - 0s 6ms/step - loss: 0.0203\n",
            "Epoch 61/500\n",
            "17/17 [==============================] - 0s 6ms/step - loss: 0.0202\n",
            "Epoch 62/500\n",
            "17/17 [==============================] - 0s 5ms/step - loss: 0.0210\n",
            "Epoch 63/500\n",
            "17/17 [==============================] - 0s 6ms/step - loss: 0.0205\n",
            "Epoch 64/500\n",
            "17/17 [==============================] - 0s 5ms/step - loss: 0.0206\n",
            "Epoch 65/500\n",
            "17/17 [==============================] - 0s 5ms/step - loss: 0.0206\n",
            "Epoch 66/500\n",
            "17/17 [==============================] - 0s 5ms/step - loss: 0.0200\n",
            "Epoch 67/500\n",
            "17/17 [==============================] - 0s 5ms/step - loss: 0.0201\n",
            "Epoch 68/500\n",
            "17/17 [==============================] - 0s 5ms/step - loss: 0.0197\n",
            "Epoch 69/500\n",
            "17/17 [==============================] - 0s 6ms/step - loss: 0.0195\n",
            "Epoch 70/500\n",
            "17/17 [==============================] - 0s 6ms/step - loss: 0.0193\n",
            "Epoch 71/500\n",
            "17/17 [==============================] - 0s 5ms/step - loss: 0.0193\n",
            "Epoch 72/500\n",
            "17/17 [==============================] - 0s 6ms/step - loss: 0.0199\n",
            "Epoch 73/500\n",
            "17/17 [==============================] - 0s 6ms/step - loss: 0.0198\n",
            "Epoch 74/500\n",
            "17/17 [==============================] - 0s 5ms/step - loss: 0.0190\n",
            "Epoch 75/500\n",
            "17/17 [==============================] - 0s 5ms/step - loss: 0.0193\n",
            "Epoch 76/500\n",
            "17/17 [==============================] - 0s 5ms/step - loss: 0.0195\n",
            "Epoch 77/500\n",
            "17/17 [==============================] - 0s 6ms/step - loss: 0.0189\n",
            "Epoch 78/500\n",
            "17/17 [==============================] - 0s 5ms/step - loss: 0.0189\n",
            "Epoch 79/500\n",
            "17/17 [==============================] - 0s 5ms/step - loss: 0.0190\n",
            "Epoch 80/500\n",
            "17/17 [==============================] - 0s 6ms/step - loss: 0.0193\n",
            "Epoch 81/500\n",
            "17/17 [==============================] - 0s 6ms/step - loss: 0.0190\n",
            "Epoch 82/500\n",
            "17/17 [==============================] - 0s 6ms/step - loss: 0.0197\n",
            "Epoch 83/500\n",
            "17/17 [==============================] - 0s 6ms/step - loss: 0.0192\n",
            "Epoch 84/500\n",
            "17/17 [==============================] - 0s 5ms/step - loss: 0.0193\n",
            "Epoch 85/500\n",
            "17/17 [==============================] - 0s 5ms/step - loss: 0.0188\n",
            "Epoch 86/500\n",
            "17/17 [==============================] - 0s 6ms/step - loss: 0.0205\n",
            "Epoch 87/500\n",
            "17/17 [==============================] - 0s 5ms/step - loss: 0.0206\n",
            "Epoch 88/500\n",
            "17/17 [==============================] - 0s 5ms/step - loss: 0.0186\n",
            "Epoch 89/500\n",
            "17/17 [==============================] - 0s 6ms/step - loss: 0.0185\n",
            "Epoch 90/500\n",
            "17/17 [==============================] - 0s 6ms/step - loss: 0.0183\n",
            "Epoch 91/500\n",
            "17/17 [==============================] - 0s 7ms/step - loss: 0.0181\n",
            "Epoch 92/500\n",
            "17/17 [==============================] - 0s 5ms/step - loss: 0.0181\n",
            "Epoch 93/500\n",
            "17/17 [==============================] - 0s 5ms/step - loss: 0.0176\n",
            "Epoch 94/500\n",
            "17/17 [==============================] - 0s 5ms/step - loss: 0.0181\n",
            "Epoch 95/500\n",
            "17/17 [==============================] - 0s 6ms/step - loss: 0.0177\n",
            "Epoch 96/500\n",
            "17/17 [==============================] - 0s 5ms/step - loss: 0.0179\n",
            "Epoch 97/500\n",
            "17/17 [==============================] - 0s 5ms/step - loss: 0.0177\n",
            "Epoch 98/500\n",
            "17/17 [==============================] - 0s 5ms/step - loss: 0.0180\n",
            "Epoch 99/500\n",
            "17/17 [==============================] - 0s 5ms/step - loss: 0.0166\n",
            "Epoch 100/500\n",
            "17/17 [==============================] - 0s 5ms/step - loss: 0.0174\n",
            "Epoch 101/500\n",
            "17/17 [==============================] - 0s 6ms/step - loss: 0.0179\n",
            "Epoch 102/500\n",
            "17/17 [==============================] - 0s 6ms/step - loss: 0.0172\n",
            "Epoch 103/500\n",
            "17/17 [==============================] - 0s 5ms/step - loss: 0.0163\n",
            "Epoch 104/500\n",
            "17/17 [==============================] - 0s 5ms/step - loss: 0.0173\n",
            "Epoch 105/500\n",
            "17/17 [==============================] - 0s 5ms/step - loss: 0.0174\n",
            "Epoch 106/500\n",
            "17/17 [==============================] - 0s 5ms/step - loss: 0.0170\n",
            "Epoch 107/500\n",
            "17/17 [==============================] - 0s 5ms/step - loss: 0.0163\n",
            "Epoch 108/500\n",
            "17/17 [==============================] - 0s 5ms/step - loss: 0.0164\n",
            "Epoch 109/500\n",
            "17/17 [==============================] - 0s 6ms/step - loss: 0.0168\n",
            "Epoch 110/500\n",
            "17/17 [==============================] - 0s 5ms/step - loss: 0.0165\n",
            "Epoch 111/500\n",
            "17/17 [==============================] - 0s 6ms/step - loss: 0.0153\n",
            "Epoch 112/500\n",
            "17/17 [==============================] - 0s 6ms/step - loss: 0.0155\n",
            "Epoch 113/500\n",
            "17/17 [==============================] - 0s 5ms/step - loss: 0.0159\n",
            "Epoch 114/500\n",
            "17/17 [==============================] - 0s 6ms/step - loss: 0.0159\n",
            "Epoch 115/500\n",
            "17/17 [==============================] - 0s 5ms/step - loss: 0.0156\n",
            "Epoch 116/500\n",
            "17/17 [==============================] - 0s 6ms/step - loss: 0.0150\n",
            "Epoch 117/500\n",
            "17/17 [==============================] - 0s 5ms/step - loss: 0.0143\n",
            "Epoch 118/500\n",
            "17/17 [==============================] - 0s 6ms/step - loss: 0.0150\n",
            "Epoch 119/500\n",
            "17/17 [==============================] - 0s 5ms/step - loss: 0.0148\n",
            "Epoch 120/500\n",
            "17/17 [==============================] - 0s 5ms/step - loss: 0.0169\n",
            "Epoch 121/500\n",
            "17/17 [==============================] - 0s 5ms/step - loss: 0.0157\n",
            "Epoch 122/500\n",
            "17/17 [==============================] - 0s 5ms/step - loss: 0.0144\n",
            "Epoch 123/500\n",
            "17/17 [==============================] - 0s 6ms/step - loss: 0.0149\n",
            "Epoch 124/500\n",
            "17/17 [==============================] - 0s 5ms/step - loss: 0.0141\n",
            "Epoch 125/500\n",
            "17/17 [==============================] - 0s 5ms/step - loss: 0.0137\n",
            "Epoch 126/500\n",
            "17/17 [==============================] - 0s 5ms/step - loss: 0.0143\n",
            "Epoch 127/500\n",
            "17/17 [==============================] - 0s 5ms/step - loss: 0.0151\n",
            "Epoch 128/500\n",
            "17/17 [==============================] - 0s 5ms/step - loss: 0.0144\n",
            "Epoch 129/500\n",
            "17/17 [==============================] - 0s 6ms/step - loss: 0.0145\n",
            "Epoch 130/500\n",
            "17/17 [==============================] - 0s 5ms/step - loss: 0.0136\n",
            "Epoch 131/500\n",
            "17/17 [==============================] - 0s 5ms/step - loss: 0.0139\n",
            "Epoch 132/500\n",
            "17/17 [==============================] - 0s 6ms/step - loss: 0.0126\n",
            "Epoch 133/500\n",
            "17/17 [==============================] - 0s 5ms/step - loss: 0.0125\n",
            "Epoch 134/500\n",
            "17/17 [==============================] - 0s 5ms/step - loss: 0.0127\n",
            "Epoch 135/500\n",
            "17/17 [==============================] - 0s 5ms/step - loss: 0.0127\n",
            "Epoch 136/500\n",
            "17/17 [==============================] - 0s 5ms/step - loss: 0.0137\n",
            "Epoch 137/500\n",
            "17/17 [==============================] - 0s 5ms/step - loss: 0.0129\n",
            "Epoch 138/500\n",
            "17/17 [==============================] - 0s 5ms/step - loss: 0.0137\n",
            "Epoch 139/500\n",
            "17/17 [==============================] - 0s 6ms/step - loss: 0.0131\n",
            "Epoch 140/500\n",
            "17/17 [==============================] - 0s 5ms/step - loss: 0.0125\n",
            "Epoch 141/500\n",
            "17/17 [==============================] - 0s 5ms/step - loss: 0.0125\n",
            "Epoch 142/500\n",
            "17/17 [==============================] - 0s 6ms/step - loss: 0.0126\n",
            "Epoch 143/500\n",
            "17/17 [==============================] - 0s 5ms/step - loss: 0.0149\n",
            "Epoch 144/500\n",
            "17/17 [==============================] - 0s 5ms/step - loss: 0.0124\n",
            "Epoch 145/500\n",
            "17/17 [==============================] - 0s 5ms/step - loss: 0.0141\n",
            "Epoch 146/500\n",
            "17/17 [==============================] - 0s 5ms/step - loss: 0.0122\n",
            "Epoch 147/500\n",
            "17/17 [==============================] - 0s 5ms/step - loss: 0.0116\n",
            "Epoch 148/500\n",
            "17/17 [==============================] - 0s 5ms/step - loss: 0.0120\n",
            "Epoch 149/500\n",
            "17/17 [==============================] - 0s 6ms/step - loss: 0.0116\n",
            "Epoch 150/500\n",
            "17/17 [==============================] - 0s 5ms/step - loss: 0.0119\n",
            "Epoch 151/500\n",
            "17/17 [==============================] - 0s 5ms/step - loss: 0.0124\n",
            "Epoch 152/500\n",
            "17/17 [==============================] - 0s 6ms/step - loss: 0.0118\n",
            "Epoch 153/500\n",
            "17/17 [==============================] - 0s 5ms/step - loss: 0.0118\n",
            "Epoch 154/500\n",
            "17/17 [==============================] - 0s 6ms/step - loss: 0.0110\n",
            "Epoch 155/500\n",
            "17/17 [==============================] - 0s 5ms/step - loss: 0.0116\n",
            "Epoch 156/500\n",
            "17/17 [==============================] - 0s 6ms/step - loss: 0.0114\n",
            "Epoch 157/500\n",
            "17/17 [==============================] - 0s 5ms/step - loss: 0.0115\n",
            "Epoch 158/500\n",
            "17/17 [==============================] - 0s 5ms/step - loss: 0.0113\n",
            "Epoch 159/500\n",
            "17/17 [==============================] - 0s 5ms/step - loss: 0.0123\n",
            "Epoch 160/500\n",
            "17/17 [==============================] - 0s 6ms/step - loss: 0.0114\n",
            "Epoch 161/500\n",
            "17/17 [==============================] - 0s 5ms/step - loss: 0.0111\n",
            "Epoch 162/500\n",
            "17/17 [==============================] - 0s 6ms/step - loss: 0.0110\n",
            "Epoch 163/500\n",
            "17/17 [==============================] - 0s 5ms/step - loss: 0.0116\n",
            "Epoch 164/500\n",
            "17/17 [==============================] - 0s 5ms/step - loss: 0.0112\n",
            "Epoch 165/500\n",
            "17/17 [==============================] - 0s 5ms/step - loss: 0.0109\n",
            "Epoch 166/500\n",
            "17/17 [==============================] - 0s 6ms/step - loss: 0.0106\n",
            "Epoch 167/500\n",
            "17/17 [==============================] - 0s 5ms/step - loss: 0.0109\n",
            "Epoch 168/500\n",
            "17/17 [==============================] - 0s 5ms/step - loss: 0.0117\n",
            "Epoch 169/500\n",
            "17/17 [==============================] - 0s 5ms/step - loss: 0.0107\n",
            "Epoch 170/500\n",
            "17/17 [==============================] - 0s 5ms/step - loss: 0.0105\n",
            "Epoch 171/500\n",
            "17/17 [==============================] - 0s 7ms/step - loss: 0.0116\n",
            "Epoch 172/500\n",
            "17/17 [==============================] - 0s 8ms/step - loss: 0.0122\n",
            "Epoch 173/500\n",
            "17/17 [==============================] - 0s 7ms/step - loss: 0.0111\n",
            "Epoch 174/500\n",
            "17/17 [==============================] - 0s 7ms/step - loss: 0.0113\n",
            "Epoch 175/500\n",
            "17/17 [==============================] - 0s 6ms/step - loss: 0.0114\n",
            "Epoch 176/500\n",
            "17/17 [==============================] - 0s 5ms/step - loss: 0.0111\n",
            "Epoch 177/500\n",
            "17/17 [==============================] - 0s 6ms/step - loss: 0.0102\n",
            "Epoch 178/500\n",
            "17/17 [==============================] - 0s 6ms/step - loss: 0.0105\n",
            "Epoch 179/500\n",
            "17/17 [==============================] - 0s 5ms/step - loss: 0.0121\n",
            "Epoch 180/500\n",
            "17/17 [==============================] - 0s 6ms/step - loss: 0.0119\n",
            "Epoch 181/500\n",
            "17/17 [==============================] - 0s 8ms/step - loss: 0.0103\n",
            "Epoch 182/500\n",
            "17/17 [==============================] - 0s 7ms/step - loss: 0.0103\n",
            "Epoch 183/500\n",
            "17/17 [==============================] - 0s 7ms/step - loss: 0.0098\n",
            "Epoch 184/500\n",
            "17/17 [==============================] - 0s 6ms/step - loss: 0.0093\n",
            "Epoch 185/500\n",
            "17/17 [==============================] - 0s 5ms/step - loss: 0.0098\n",
            "Epoch 186/500\n",
            "17/17 [==============================] - 0s 6ms/step - loss: 0.0091\n",
            "Epoch 187/500\n",
            "17/17 [==============================] - 0s 5ms/step - loss: 0.0096\n",
            "Epoch 188/500\n",
            "17/17 [==============================] - 0s 5ms/step - loss: 0.0103\n",
            "Epoch 189/500\n",
            "17/17 [==============================] - 0s 6ms/step - loss: 0.0100\n",
            "Epoch 190/500\n",
            "17/17 [==============================] - 0s 6ms/step - loss: 0.0098\n",
            "Epoch 191/500\n",
            "17/17 [==============================] - 0s 5ms/step - loss: 0.0095\n",
            "Epoch 192/500\n",
            "17/17 [==============================] - 0s 5ms/step - loss: 0.0103\n",
            "Epoch 193/500\n",
            "17/17 [==============================] - 0s 5ms/step - loss: 0.0097\n",
            "Epoch 194/500\n",
            "17/17 [==============================] - 0s 5ms/step - loss: 0.0095\n",
            "Epoch 195/500\n",
            "17/17 [==============================] - 0s 6ms/step - loss: 0.0091\n",
            "Epoch 196/500\n",
            "17/17 [==============================] - 0s 5ms/step - loss: 0.0092\n",
            "Epoch 197/500\n",
            "17/17 [==============================] - 0s 6ms/step - loss: 0.0097\n",
            "Epoch 198/500\n",
            "17/17 [==============================] - 0s 6ms/step - loss: 0.0094\n",
            "Epoch 199/500\n",
            "17/17 [==============================] - 0s 5ms/step - loss: 0.0083\n",
            "Epoch 200/500\n",
            "17/17 [==============================] - 0s 6ms/step - loss: 0.0088\n",
            "Epoch 201/500\n",
            "17/17 [==============================] - 0s 5ms/step - loss: 0.0089\n",
            "Epoch 202/500\n",
            "17/17 [==============================] - 0s 5ms/step - loss: 0.0088\n",
            "Epoch 203/500\n",
            "17/17 [==============================] - 0s 6ms/step - loss: 0.0087\n",
            "Epoch 204/500\n",
            "17/17 [==============================] - 0s 5ms/step - loss: 0.0089\n",
            "Epoch 205/500\n",
            "17/17 [==============================] - 0s 5ms/step - loss: 0.0089\n",
            "Epoch 206/500\n",
            "17/17 [==============================] - 0s 5ms/step - loss: 0.0113\n",
            "Epoch 207/500\n",
            "17/17 [==============================] - 0s 6ms/step - loss: 0.0094\n",
            "Epoch 208/500\n",
            "17/17 [==============================] - 0s 5ms/step - loss: 0.0094\n",
            "Epoch 209/500\n",
            "17/17 [==============================] - 0s 6ms/step - loss: 0.0100\n",
            "Epoch 210/500\n",
            "17/17 [==============================] - 0s 6ms/step - loss: 0.0100\n",
            "Epoch 211/500\n",
            "17/17 [==============================] - 0s 5ms/step - loss: 0.0091\n",
            "Epoch 212/500\n",
            "17/17 [==============================] - 0s 5ms/step - loss: 0.0086\n",
            "Epoch 213/500\n",
            "17/17 [==============================] - 0s 5ms/step - loss: 0.0088\n",
            "Epoch 214/500\n",
            "17/17 [==============================] - 0s 5ms/step - loss: 0.0081\n",
            "Epoch 215/500\n",
            "17/17 [==============================] - 0s 6ms/step - loss: 0.0082\n",
            "Epoch 216/500\n",
            "17/17 [==============================] - 0s 5ms/step - loss: 0.0082\n",
            "Epoch 217/500\n",
            "17/17 [==============================] - 0s 6ms/step - loss: 0.0084\n",
            "Epoch 218/500\n",
            "17/17 [==============================] - 0s 7ms/step - loss: 0.0085\n",
            "Epoch 219/500\n",
            "17/17 [==============================] - 0s 6ms/step - loss: 0.0084\n",
            "Epoch 220/500\n",
            "17/17 [==============================] - 0s 6ms/step - loss: 0.0084\n",
            "Epoch 221/500\n",
            "17/17 [==============================] - 0s 5ms/step - loss: 0.0091\n",
            "Epoch 222/500\n",
            "17/17 [==============================] - 0s 5ms/step - loss: 0.0091\n",
            "Epoch 223/500\n",
            "17/17 [==============================] - 0s 5ms/step - loss: 0.0079\n",
            "Epoch 224/500\n",
            "17/17 [==============================] - 0s 5ms/step - loss: 0.0093\n",
            "Epoch 225/500\n",
            "17/17 [==============================] - 0s 5ms/step - loss: 0.0098\n",
            "Epoch 226/500\n",
            "17/17 [==============================] - 0s 6ms/step - loss: 0.0080\n",
            "Epoch 227/500\n",
            "17/17 [==============================] - 0s 6ms/step - loss: 0.0078\n",
            "Epoch 228/500\n",
            "17/17 [==============================] - 0s 6ms/step - loss: 0.0078\n",
            "Epoch 229/500\n",
            "17/17 [==============================] - 0s 6ms/step - loss: 0.0076\n",
            "Epoch 230/500\n",
            "17/17 [==============================] - 0s 5ms/step - loss: 0.0072\n",
            "Epoch 231/500\n",
            "17/17 [==============================] - 0s 5ms/step - loss: 0.0075\n",
            "Epoch 232/500\n",
            "17/17 [==============================] - 0s 5ms/step - loss: 0.0074\n",
            "Epoch 233/500\n",
            "17/17 [==============================] - 0s 5ms/step - loss: 0.0081\n",
            "Epoch 234/500\n",
            "17/17 [==============================] - 0s 6ms/step - loss: 0.0078\n",
            "Epoch 235/500\n",
            "17/17 [==============================] - 0s 5ms/step - loss: 0.0075\n",
            "Epoch 236/500\n",
            "17/17 [==============================] - 0s 5ms/step - loss: 0.0075\n",
            "Epoch 237/500\n",
            "17/17 [==============================] - 0s 6ms/step - loss: 0.0072\n",
            "Epoch 238/500\n",
            "17/17 [==============================] - 0s 6ms/step - loss: 0.0074\n",
            "Epoch 239/500\n",
            "17/17 [==============================] - 0s 5ms/step - loss: 0.0075\n",
            "Epoch 240/500\n",
            "17/17 [==============================] - 0s 6ms/step - loss: 0.0073\n",
            "Epoch 241/500\n",
            "17/17 [==============================] - 0s 5ms/step - loss: 0.0068\n",
            "Epoch 242/500\n",
            "17/17 [==============================] - 0s 5ms/step - loss: 0.0075\n",
            "Epoch 243/500\n",
            "17/17 [==============================] - 0s 5ms/step - loss: 0.0074\n",
            "Epoch 244/500\n",
            "17/17 [==============================] - 0s 6ms/step - loss: 0.0078\n",
            "Epoch 245/500\n",
            "17/17 [==============================] - 0s 5ms/step - loss: 0.0081\n",
            "Epoch 246/500\n",
            "17/17 [==============================] - 0s 5ms/step - loss: 0.0091\n",
            "Epoch 247/500\n",
            "17/17 [==============================] - 0s 6ms/step - loss: 0.0088\n",
            "Epoch 248/500\n",
            "17/17 [==============================] - 0s 5ms/step - loss: 0.0085\n",
            "Epoch 249/500\n",
            "17/17 [==============================] - 0s 5ms/step - loss: 0.0074\n",
            "Epoch 250/500\n",
            "17/17 [==============================] - 0s 8ms/step - loss: 0.0077\n",
            "Epoch 251/500\n",
            "17/17 [==============================] - 0s 5ms/step - loss: 0.0081\n",
            "Epoch 252/500\n",
            "17/17 [==============================] - 0s 5ms/step - loss: 0.0077\n",
            "Epoch 253/500\n",
            "17/17 [==============================] - 0s 6ms/step - loss: 0.0071\n",
            "Epoch 254/500\n",
            "17/17 [==============================] - 0s 6ms/step - loss: 0.0075\n",
            "Epoch 255/500\n",
            "17/17 [==============================] - 0s 6ms/step - loss: 0.0073\n",
            "Epoch 256/500\n",
            "17/17 [==============================] - 0s 6ms/step - loss: 0.0079\n",
            "Epoch 257/500\n",
            "17/17 [==============================] - 0s 6ms/step - loss: 0.0087\n",
            "Epoch 258/500\n",
            "17/17 [==============================] - 0s 6ms/step - loss: 0.0081\n",
            "Epoch 259/500\n",
            "17/17 [==============================] - 0s 6ms/step - loss: 0.0085\n",
            "Epoch 260/500\n",
            "17/17 [==============================] - 0s 5ms/step - loss: 0.0085\n",
            "Epoch 261/500\n",
            "17/17 [==============================] - 0s 5ms/step - loss: 0.0087\n",
            "Epoch 262/500\n",
            "17/17 [==============================] - 0s 5ms/step - loss: 0.0083\n",
            "Epoch 263/500\n",
            "17/17 [==============================] - 0s 6ms/step - loss: 0.0082\n",
            "Epoch 264/500\n",
            "17/17 [==============================] - 0s 6ms/step - loss: 0.0078\n",
            "Epoch 265/500\n",
            "17/17 [==============================] - 0s 6ms/step - loss: 0.0081\n",
            "Epoch 266/500\n",
            "17/17 [==============================] - 0s 6ms/step - loss: 0.0072\n",
            "Epoch 267/500\n",
            "17/17 [==============================] - 0s 6ms/step - loss: 0.0070\n",
            "Epoch 268/500\n",
            "17/17 [==============================] - 0s 6ms/step - loss: 0.0072\n",
            "Epoch 269/500\n",
            " 9/17 [==============>...............] - ETA: 0s - loss: 0.0072"
          ]
        }
      ]
    },
    {
      "cell_type": "markdown",
      "source": [
        "#**Checking Validation Result**\n",
        "\n",
        "Model's performance with vaildation data"
      ],
      "metadata": {
        "id": "o6B5LAkddY0z"
      }
    },
    {
      "cell_type": "code",
      "source": [
        "#Checking through trained model\n",
        "y_pred = model.predict(X_val)\n",
        "mse = MeanSquaredError()\n",
        "val_er = mse(y_val.reshape(-1,1),y_pred)\n",
        "print(\"Validation Error: \", val_er.numpy())\n",
        "\n",
        "#Using Inverse Transformation for better Observation\n",
        "plt.plot(pres_scaler.inverse_transform(y_val.reshape(-1,1)),'k', label='Original')\n",
        "plt.plot(pres_scaler.inverse_transform(y_pred.reshape(-1,1)),'r', label='Prediction')\n",
        "plt.ylabel(\"Pressure\")\n",
        "plt.xlabel(\"Datapoint\")\n",
        "plt.title(\"Validation Data Prediction\")\n",
        "plt.legend()\n",
        "plt.show()"
      ],
      "metadata": {
        "id": "74g2-gJaa8hY"
      },
      "execution_count": null,
      "outputs": []
    },
    {
      "cell_type": "markdown",
      "source": [
        "\n",
        "\n",
        "---\n",
        "\n"
      ],
      "metadata": {
        "id": "nntccnqLlEUH"
      }
    },
    {
      "cell_type": "markdown",
      "source": [
        "#**Checking Testing Result**\n",
        "\n",
        "From the above plot we can see some of the data points are innacurate, which can be caused by the highly fluctuating nature of hourly data points, so we are checking whether the model can predict the sensor reading correctly in the event of anamolies.\n",
        "\n",
        "Picking up date where failure occured:- 2015-05-21"
      ],
      "metadata": {
        "id": "pNXuKgkyfgw0"
      }
    },
    {
      "cell_type": "code",
      "source": [
        "#Date where another failure occured\n",
        "st_test = df_sin.loc[df_sin['datetime']==\"2015-05-21\"].index.values[0]\n",
        "\n",
        "#Filtering data to include approximately two-weeks window\n",
        "start_period_test = st_test - 7*24\n",
        "end_period_test = st_test + 7*24\n",
        "X_test, y_test, test_scaler= create_feature(start_period_test, end_period_test)\n",
        "\n",
        "#Shaping the sequence\n",
        "X_test_seq = shape_sequence(X_test, 5, 0)\n",
        "y_test_seq = shape_sequence(y_test, 1, 0)\n",
        "\n",
        "#Predicting the testing data\n",
        "y_pred_test = model.predict(X_test_seq)\n",
        "test_er = mse(y_test_seq.reshape(-1,1), y_pred_test)\n",
        "print(\"Testing Error = \", test_er.numpy())\n",
        "\n",
        "#Selecting first 200 datapoints to allow for better plotting\n",
        "#Returning the value using Inverse Transformation to allow better Observation\n",
        "plt.plot(test_scaler.inverse_transform(y_pred_test[:200].reshape(-1,1)),'r', label=\"Prediction\")\n",
        "plt.plot(test_scaler.inverse_transform(y_test_seq[:200].reshape(-1,1)),'k', label=\"Original\")\n",
        "plt.ylabel(\"Pressure\")\n",
        "plt.xlabel(\"Datapoints\")\n",
        "plt.legend()\n",
        "plt.show()"
      ],
      "metadata": {
        "id": "K3-jzifUfMEI"
      },
      "execution_count": null,
      "outputs": []
    },
    {
      "cell_type": "markdown",
      "source": [
        "***We Observe that model can predict the sensor reading even in the event of machine failure, so we have to make sure the training data that we use to train should include past failure events as well***"
      ],
      "metadata": {
        "id": "NVmC-UlfjzCy"
      }
    }
  ]
}